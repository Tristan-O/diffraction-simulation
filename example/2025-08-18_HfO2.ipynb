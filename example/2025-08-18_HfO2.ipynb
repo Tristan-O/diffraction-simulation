{
 "cells": [
  {
   "cell_type": "code",
   "execution_count": null,
   "id": "3b8193c6",
   "metadata": {},
   "outputs": [],
   "source": [
    "%matplotlib widget\n",
    "from diffraction_simulation import diffraction_simulation as dsim\n",
    "import numpy as np\n",
    "from matplotlib import pyplot as plt\n",
    "from pymatgen.core import Structure, Lattice\n",
    "from pymatgen.core.operations import SymmOp\n",
    "\n",
    "ewald = dsim.EwaldSphere(300e3)\n",
    "pca21 = dsim.StructureHandler.from_matproj('HfO2_Pca21')\n",
    "p42nmc= dsim.StructureHandler.from_matproj('HfO2_P42nmc').BCT2FCC_transform()\n",
    "p21c = dsim.StructureHandler.from_matproj('HfO2_P21c')\n",
    "p21c.align_structure([0,0,-1])\n",
    "\n",
    "fig = plt.figure(figsize=(12,4))\n",
    "ax1 = fig.add_subplot(131, projection='3d', proj_type='ortho')\n",
    "ax1 = pca21.plot_unit_cell(ax1,high_frac = (1.1, 1.1, 1.05))\n",
    "ax1.legend()\n",
    "\n",
    "ax2 = fig.add_subplot(132, projection='3d', proj_type='ortho')\n",
    "ax2 = p42nmc.plot_unit_cell(ax2)\n",
    "ax2.legend()\n",
    "\n",
    "ax3 = fig.add_subplot(133, projection='3d', proj_type='ortho')\n",
    "ax3 = p21c.plot_unit_cell(ax3, low_frac=(-0.1,-0.1,-0.01))\n",
    "ax3.legend()"
   ]
  }
 ],
 "metadata": {
  "kernelspec": {
   "display_name": "diffraction",
   "language": "python",
   "name": "python3"
  },
  "language_info": {
   "codemirror_mode": {
    "name": "ipython",
    "version": 3
   },
   "file_extension": ".py",
   "mimetype": "text/x-python",
   "name": "python",
   "nbconvert_exporter": "python",
   "pygments_lexer": "ipython3",
   "version": "3.13.5"
  }
 },
 "nbformat": 4,
 "nbformat_minor": 5
}
