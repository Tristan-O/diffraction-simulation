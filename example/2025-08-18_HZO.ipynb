{
 "cells": [
  {
   "cell_type": "code",
   "execution_count": null,
   "id": "c96ec541",
   "metadata": {},
   "outputs": [],
   "source": [
    "%matplotlib widget\n",
    "from diffraction_simulation import diffraction_simulation as dsim\n",
    "import numpy as np\n",
    "from matplotlib import pyplot as plt\n",
    "\n",
    "ewald = dsim.EwaldSphere(300e3)\n",
    "struct = dsim.StructureHandler.from_matproj('HfO2_Pca21')"
   ]
  },
  {
   "cell_type": "code",
   "execution_count": null,
   "id": "aee342e5",
   "metadata": {},
   "outputs": [],
   "source": [
    "g_max = 5*np.sqrt(2)\n",
    "dq = 0.05\n",
    "sg_max = 0.1\n",
    "\n",
    "dp = struct.get_excitable_hkl(ewald, sg_max, g_max)\n",
    "print('# spots:',len(dp.q))\n",
    "powder = struct.powder_hkl(ewald, sg_max, g_max, num_orientations=10000)\n",
    "\n",
    "fig,(ax1,ax2) = plt.subplots(1,2,figsize=(10,6))\n",
    "dp.pcolor(ax1, sample_thickness=10, norm='log')\n",
    "powder.pcolor(ax2, sample_thickness=10, norm='log')"
   ]
  },
  {
   "cell_type": "code",
   "execution_count": null,
   "id": "84067673",
   "metadata": {},
   "outputs": [],
   "source": [
    "fig,ax = plt.subplots(figsize=(10,6))\n",
    "ax.minorticks_on()\n",
    "ax.set_yscale('log')\n",
    "ax.set_xlim(0,g_max/np.sqrt(2))\n",
    "\n",
    "powder.hist(ax, bins=100, radial_weight=True, sample_thickness=20);"
   ]
  },
  {
   "cell_type": "code",
   "execution_count": null,
   "id": "72bdbd7c",
   "metadata": {},
   "outputs": [],
   "source": [
    "fig,ax = plt.subplots(figsize=(10,6))\n",
    "\n",
    "ax.hist(powder.sg, bins=100, alpha=0.5)\n",
    "ax.set_yscale('log')\n",
    "\n",
    "ax.set_xlabel('$nm^{-1}$')\n",
    "ax.set_xlim(-sg_max,sg_max)"
   ]
  }
 ],
 "metadata": {
  "kernelspec": {
   "display_name": "diffraction",
   "language": "python",
   "name": "python3"
  },
  "language_info": {
   "codemirror_mode": {
    "name": "ipython",
    "version": 3
   },
   "file_extension": ".py",
   "mimetype": "text/x-python",
   "name": "python",
   "nbconvert_exporter": "python",
   "pygments_lexer": "ipython3",
   "version": "3.13.5"
  }
 },
 "nbformat": 4,
 "nbformat_minor": 5
}
