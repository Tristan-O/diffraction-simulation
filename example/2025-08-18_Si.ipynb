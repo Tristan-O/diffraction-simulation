{
 "cells": [
  {
   "cell_type": "code",
   "execution_count": null,
   "id": "c96ec541",
   "metadata": {},
   "outputs": [],
   "source": [
    "%matplotlib widget\n",
    "from diffraction_simulation import diffraction_simulation as dsim\n",
    "from diffraction_simulation.misc import fig2clipboard\n",
    "import numpy as np\n",
    "from matplotlib import pyplot as plt\n",
    "\n",
    "ewald = dsim.EwaldSphere(300e3)\n",
    "struct = dsim.StructureHandler.from_matproj()\n",
    "\n",
    "ax = struct.plot_unit_cell_3d()\n",
    "ax.set_title('Si')\n",
    "struct.align_structure_uvw_to_z((1,1,1))"
   ]
  },
  {
   "cell_type": "code",
   "execution_count": null,
   "id": "aee342e5",
   "metadata": {},
   "outputs": [],
   "source": [
    "g_max = 7*np.sqrt(2)\n",
    "dq = 0.01\n",
    "sg_max = 0.1\n",
    "\n",
    "dp = struct.get_excitable_hkl(ewald, sg_max, g_max)\n",
    "print('# spots:',len(dp.q))\n",
    "powder = struct.powder_hkl(ewald, sg_max, g_max, num_orientations=10000)\n",
    "\n",
    "fig,(ax1,ax2,ax3) = plt.subplots(1,3,figsize=(10,3))\n",
    "\n",
    "dp.pcolor(ax1, sample_thickness=10, label_hkl=True)\n",
    "powder.pcolor(ax2, tight=False, sample_thickness=10, norm='linear', color='gray')\n",
    "powder.pcolor(ax3, tight=False, sample_thickness=10, norm='log', color='gray')\n",
    "ax1.set_aspect(1)\n",
    "ax2.set_aspect(1)\n",
    "ax3.set_aspect(1)\n",
    "fig.tight_layout()\n",
    "# fig2clipboard(fig, 400)"
   ]
  },
  {
   "cell_type": "code",
   "execution_count": null,
   "id": "84067673",
   "metadata": {},
   "outputs": [],
   "source": [
    "fig,ax = plt.subplots(figsize=(3,3))\n",
    "ax.minorticks_on()\n",
    "# ax.set_yscale('log')\n",
    "ax.set_xlim(2,g_max/np.sqrt(2))\n",
    "\n",
    "powder.hist(ax, bins=100, radial_weight=True, sample_thickness=10);\n",
    "fig.tight_layout()\n",
    "\n",
    "# fig2clipboard(fig, 400)"
   ]
  },
  {
   "cell_type": "code",
   "execution_count": null,
   "id": "d3128283",
   "metadata": {},
   "outputs": [],
   "source": [
    "fig,(ax1,ax2,ax3) = plt.subplots(1,3,figsize=(10,3))\n",
    "\n",
    "ax3.set_yscale('log')\n",
    "ax3.set_xlim(2,g_max/np.sqrt(2))\n",
    "powder.hist(ax3, bins=100, radial_weight=False, sample_thickness=10)\n",
    "powder.pcolor(ax1, tight=False, sample_thickness=10, norm='linear', color='gray')\n",
    "powder.pcolor(ax2, tight=False, sample_thickness=10, norm='log', color='gray')\n",
    "ax1.set_title('linear')\n",
    "ax2.set_title('log')\n",
    "ax1.set_aspect(1)\n",
    "ax2.set_aspect(1)\n",
    "fig.tight_layout()"
   ]
  },
  {
   "cell_type": "code",
   "execution_count": null,
   "id": "0f9f5fa2",
   "metadata": {},
   "outputs": [],
   "source": [
    "fig,ax = plt.subplots()\n",
    "ax.minorticks_on()\n",
    "ax.hist2d(powder.q, powder.sg, bins=75, alpha=0.5)\n",
    "ax.set_xlabel('$q (nm^{-1})$')\n",
    "ax.set_ylabel('$s_g (nm^{-1}$)')\n",
    "ax.set_xlim(2,g_max/np.sqrt(2))\n",
    "fig.tight_layout();"
   ]
  },
  {
   "cell_type": "code",
   "execution_count": null,
   "id": "72bdbd7c",
   "metadata": {},
   "outputs": [],
   "source": [
    "fig,ax = plt.subplots(figsize=(10,6))\n",
    "\n",
    "ax.hist(powder.sg, bins=100, alpha=0.5)\n",
    "ax.set_yscale('log')\n",
    "\n",
    "ax.set_xlabel('$nm^{-1}$')\n",
    "ax.set_xlim(-sg_max,sg_max)"
   ]
  }
 ],
 "metadata": {
  "kernelspec": {
   "display_name": "diffraction",
   "language": "python",
   "name": "python3"
  },
  "language_info": {
   "codemirror_mode": {
    "name": "ipython",
    "version": 3
   },
   "file_extension": ".py",
   "mimetype": "text/x-python",
   "name": "python",
   "nbconvert_exporter": "python",
   "pygments_lexer": "ipython3",
   "version": "3.13.5"
  }
 },
 "nbformat": 4,
 "nbformat_minor": 5
}
